{
 "cells": [
  {
   "cell_type": "markdown",
   "id": "48504f31",
   "metadata": {},
   "source": [
    "# IMPORTING NECESSARY MODULE"
   ]
  },
  {
   "cell_type": "code",
   "execution_count": 1,
   "id": "e78956b6",
   "metadata": {},
   "outputs": [],
   "source": [
    "import pandas as pd;\n",
    "import numpy as np;"
   ]
  },
  {
   "cell_type": "markdown",
   "id": "d95c9142",
   "metadata": {},
   "source": [
    "# CONVERTING TO CSV FILE"
   ]
  },
  {
   "cell_type": "code",
   "execution_count": 2,
   "id": "06b36408",
   "metadata": {},
   "outputs": [],
   "source": [
    "# data = pd.read_csv(\"breast-cancer-wisconsin.data\")\n",
    "# data.columns = [\"id number\",\"Clump Thickness\",\"Uniformity of Cell Size\",\"Uniformity of Cell Shape\",\"Marginal Adhesion\",\n",
    "#                \"Single Epithelial Cell Size\",\"Bare Nuclei\",\"Bland Chromatin\",\"Normal Nucleoli\",\"Mitoses\",\n",
    "#                 \"Class:(2 for benign, 4 for malignant)\"]\n",
    "# data.to_csv(\"Breast_Cancer_Detection_Data.csv\",index = None,header = True)"
   ]
  },
  {
   "cell_type": "markdown",
   "id": "456b206b",
   "metadata": {},
   "source": [
    "# DATA PREPROCESSING"
   ]
  },
  {
   "cell_type": "code",
   "execution_count": 3,
   "id": "05a89a13",
   "metadata": {},
   "outputs": [
    {
     "name": "stdout",
     "output_type": "stream",
     "text": [
      "Missing Values:\n",
      "id number                                 0\n",
      "Clump Thickness                           0\n",
      "Uniformity of Cell Size                   0\n",
      "Uniformity of Cell Shape                  0\n",
      "Marginal Adhesion                         0\n",
      "Single Epithelial Cell Size               0\n",
      "Bare Nuclei                              16\n",
      "Bland Chromatin                           0\n",
      "Normal Nucleoli                           0\n",
      "Mitoses                                   0\n",
      "Class:(2 for benign, 4 for malignant)     0\n",
      "dtype: int64\n"
     ]
    }
   ],
   "source": [
    "dataset = pd.read_csv(\"Data/Breast_Cancer_Detection_Data.csv\", na_values=[\"?\"])\n",
    "# Explicitly declaring \"?\" as null value.\n",
    "# By default Pandas treat \"?\" as a regular value.\n",
    "missing_values = dataset.isnull().sum()\n",
    "print(\"Missing Values:\")\n",
    "print(missing_values)"
   ]
  },
  {
   "cell_type": "code",
   "execution_count": 4,
   "id": "b8899910",
   "metadata": {},
   "outputs": [
    {
     "name": "stdout",
     "output_type": "stream",
     "text": [
      "<class 'pandas.core.frame.DataFrame'>\n",
      "RangeIndex: 698 entries, 0 to 697\n",
      "Data columns (total 11 columns):\n",
      " #   Column                                 Non-Null Count  Dtype  \n",
      "---  ------                                 --------------  -----  \n",
      " 0   id number                              698 non-null    int64  \n",
      " 1   Clump Thickness                        698 non-null    int64  \n",
      " 2   Uniformity of Cell Size                698 non-null    int64  \n",
      " 3   Uniformity of Cell Shape               698 non-null    int64  \n",
      " 4   Marginal Adhesion                      698 non-null    int64  \n",
      " 5   Single Epithelial Cell Size            698 non-null    int64  \n",
      " 6   Bare Nuclei                            682 non-null    float64\n",
      " 7   Bland Chromatin                        698 non-null    int64  \n",
      " 8   Normal Nucleoli                        698 non-null    int64  \n",
      " 9   Mitoses                                698 non-null    int64  \n",
      " 10  Class:(2 for benign, 4 for malignant)  698 non-null    int64  \n",
      "dtypes: float64(1), int64(10)\n",
      "memory usage: 60.1 KB\n"
     ]
    }
   ],
   "source": [
    "dataset.info()\n"
   ]
  },
  {
   "cell_type": "code",
   "execution_count": 5,
   "id": "b0f6618d",
   "metadata": {},
   "outputs": [],
   "source": [
    "dataset.replace('?',np.nan,inplace=True) # Replacing '?' by 'nan' values.\n",
    "dataset.dropna(inplace=True)             # Droping the missing_values."
   ]
  },
  {
   "cell_type": "code",
   "execution_count": 6,
   "id": "20657621",
   "metadata": {},
   "outputs": [
    {
     "data": {
      "text/plain": [
       "id number                                0\n",
       "Clump Thickness                          0\n",
       "Uniformity of Cell Size                  0\n",
       "Uniformity of Cell Shape                 0\n",
       "Marginal Adhesion                        0\n",
       "Single Epithelial Cell Size              0\n",
       "Bare Nuclei                              0\n",
       "Bland Chromatin                          0\n",
       "Normal Nucleoli                          0\n",
       "Mitoses                                  0\n",
       "Class:(2 for benign, 4 for malignant)    0\n",
       "dtype: int64"
      ]
     },
     "execution_count": 6,
     "metadata": {},
     "output_type": "execute_result"
    }
   ],
   "source": [
    "dataset.isnull().sum()                   # Checking that is there any missing value left or not."
   ]
  },
  {
   "cell_type": "code",
   "execution_count": 7,
   "id": "be1aa747",
   "metadata": {},
   "outputs": [],
   "source": [
    "x = dataset.iloc[:,1:-1].values #Note : As id number will not help in determing the type of tumor,so we are dropping it.\n",
    "y = dataset.iloc[:,-1].values"
   ]
  },
  {
   "cell_type": "code",
   "execution_count": 8,
   "id": "dad15447",
   "metadata": {},
   "outputs": [
    {
     "name": "stdout",
     "output_type": "stream",
     "text": [
      "[[ 5.  4.  4. ...  3.  2.  1.]\n",
      " [ 3.  1.  1. ...  3.  1.  1.]\n",
      " [ 6.  8.  8. ...  3.  7.  1.]\n",
      " ...\n",
      " [ 5. 10. 10. ...  8. 10.  2.]\n",
      " [ 4.  8.  6. ... 10.  6.  1.]\n",
      " [ 4.  8.  8. ... 10.  4.  1.]]\n"
     ]
    }
   ],
   "source": [
    "print(x)"
   ]
  },
  {
   "cell_type": "code",
   "execution_count": 9,
   "id": "ec50f50b",
   "metadata": {},
   "outputs": [
    {
     "name": "stdout",
     "output_type": "stream",
     "text": [
      "[2 2 2 2 4 2 2 2 2 2 2 4 2 4 4 2 2 4 2 4 4 2 2 4 2 2 2 2 2 2 4 2 2 2 4 2 4\n",
      " 4 4 4 4 4 2 4 2 2 4 4 4 4 4 4 4 4 4 4 4 4 2 4 4 2 4 2 4 4 2 2 4 2 4 4 2 2\n",
      " 2 2 2 2 2 2 2 4 4 4 4 2 2 2 2 2 2 2 2 2 2 4 4 4 4 2 4 4 4 4 4 2 4 2 4 4 4\n",
      " 2 2 2 4 2 2 2 2 4 4 4 2 4 2 4 2 2 2 4 2 2 2 2 2 2 2 2 4 2 2 4 2 2 4 2 4 4\n",
      " 2 2 4 2 2 4 4 2 2 2 2 4 4 2 2 2 2 2 4 4 4 2 4 2 4 2 2 2 4 4 2 4 4 4 2 4 4\n",
      " 2 2 2 2 2 2 2 2 4 4 2 2 2 4 4 2 2 2 4 4 2 4 4 4 2 2 4 2 2 4 4 4 4 2 4 4 2\n",
      " 4 4 4 2 4 2 4 4 4 4 2 2 2 2 2 2 4 4 2 2 4 2 4 4 4 2 2 2 2 4 4 4 4 4 2 4 4\n",
      " 4 2 4 2 4 4 2 2 2 2 4 2 2 4 4 4 4 4 2 4 4 2 2 4 4 2 2 4 4 2 4 2 4 4 2 2 4\n",
      " 2 2 2 4 2 2 4 4 2 2 4 2 4 2 2 4 2 4 4 4 2 2 4 4 2 4 2 2 4 4 2 2 2 4 2 2 2\n",
      " 4 4 2 2 2 4 2 2 4 4 4 4 4 4 2 2 2 2 4 4 2 2 2 2 2 2 2 2 2 2 2 2 2 4 2 2 2\n",
      " 2 4 2 2 2 2 4 2 2 2 2 2 2 2 2 4 2 2 2 2 2 2 2 2 2 2 4 2 4 2 4 2 2 2 2 4 2\n",
      " 2 2 4 2 4 2 2 2 2 2 2 2 4 4 2 2 2 4 2 2 2 2 2 2 2 2 4 2 2 2 4 2 4 4 4 2 2\n",
      " 2 2 2 2 2 4 4 4 2 2 2 2 2 2 2 2 2 2 2 4 2 2 4 4 2 2 2 4 4 4 2 4 2 4 2 2 2\n",
      " 2 2 2 2 2 2 2 2 2 4 2 2 2 2 2 2 2 4 4 2 2 2 4 2 2 4 4 2 2 2 2 2 2 4 2 2 2\n",
      " 2 2 2 2 2 2 2 2 2 2 2 2 4 2 2 4 2 2 2 2 2 2 2 2 2 2 2 2 2 2 2 4 2 2 4 4 4\n",
      " 4 2 2 4 2 2 2 2 2 2 4 4 2 2 2 4 2 4 2 4 4 4 2 4 2 2 2 2 2 2 2 2 4 4 4 2 2\n",
      " 4 2 4 4 4 2 2 2 2 2 2 2 2 2 2 2 2 4 2 2 2 2 2 2 4 2 2 4 2 2 2 2 2 2 2 2 2\n",
      " 2 2 4 2 2 2 2 2 2 2 2 2 4 2 2 2 2 2 2 2 2 2 4 4 4 2 2 2 2 2 2 2 2 2 4 4 2\n",
      " 2 2 2 2 2 2 2 2 4 2 2 2 2 4 4 4]\n"
     ]
    }
   ],
   "source": [
    "print(y)"
   ]
  },
  {
   "cell_type": "markdown",
   "id": "c1c07792",
   "metadata": {},
   "source": [
    "# SPLITTING INTO TRAIN SET AND TEST SET"
   ]
  },
  {
   "cell_type": "code",
   "execution_count": 10,
   "id": "0bf36072",
   "metadata": {},
   "outputs": [],
   "source": [
    "from sklearn.model_selection import train_test_split\n",
    "x_train,x_test,y_train,y_test = train_test_split(x,y,test_size=0.2,random_state = 0)"
   ]
  },
  {
   "cell_type": "code",
   "execution_count": 11,
   "id": "e2b171da",
   "metadata": {},
   "outputs": [
    {
     "name": "stdout",
     "output_type": "stream",
     "text": [
      "[[1. 1. 1. ... 2. 1. 1.]\n",
      " [5. 1. 1. ... 3. 1. 1.]\n",
      " [3. 3. 5. ... 7. 1. 1.]\n",
      " ...\n",
      " [3. 1. 1. ... 2. 1. 1.]\n",
      " [1. 2. 2. ... 1. 1. 1.]\n",
      " [5. 1. 2. ... 3. 1. 1.]]\n"
     ]
    }
   ],
   "source": [
    "print(x_train)"
   ]
  },
  {
   "cell_type": "code",
   "execution_count": 12,
   "id": "4566c448",
   "metadata": {},
   "outputs": [
    {
     "name": "stdout",
     "output_type": "stream",
     "text": [
      "[2 2 4 2 4 4 4 2 4 4 2 4 2 4 4 4 4 2 2 2 2 2 4 2 4 2 2 2 2 2 4 2 2 2 2 2 2\n",
      " 4 2 2 2 2 2 4 2 2 4 2 2 4 2 2 2 2 2 2 4 2 2 2 2 4 2 2 2 4 4 2 4 4 2 4 2 4\n",
      " 2 2 4 4 2 4 4 2 2 4 2 4 2 2 2 2 4 4 4 2 2 2 4 2 4 4 2 4 2 2 2 4 4 4 2 4 2\n",
      " 2 4 4 2 2 4 4 2 2 2 2 4 2 4 4 2 2 2 4 2 2 4 4 2 2 4 4 2 2 4 2 2 2 2 2 2 2\n",
      " 2 2 2 4 2 2 4 2 4 2 2 2 4 4 2 2 2 2 2 4 2 2 2 2 2 2 2 4 4 4 4 2 4 2 2 2 2\n",
      " 4 4 2 2 4 4 2 4 2 2 4 4 2 2 2 2 2 2 2 2 4 2 4 2 2 2 2 4 2 4 2 2 4 4 4 2 4\n",
      " 4 4 2 4 2 4 2 4 2 4 2 4 2 2 2 2 2 4 4 2 2 2 2 4 2 2 2 4 4 2 4 2 4 2 4 2 4\n",
      " 2 4 2 4 2 2 2 2 2 2 2 4 2 2 2 2 4 2 4 4 2 4 2 2 2 4 2 2 2 4 2 2 4 4 4 2 2\n",
      " 4 2 4 2 2 2 2 2 2 2 2 4 4 4 2 2 4 4 4 2 4 2 4 2 2 4 2 4 2 2 4 2 2 2 2 2 4\n",
      " 2 2 2 2 2 2 2 4 2 2 2 2 2 2 2 2 4 2 2 4 2 2 2 2 2 4 2 2 2 4 2 2 2 2 2 4 2\n",
      " 2 2 4 4 4 4 4 2 2 4 2 2 4 4 2 2 2 2 4 4 2 2 4 4 2 4 2 2 2 4 2 2 4 4 4 2 2\n",
      " 2 2 4 2 2 2 2 2 2 2 4 2 4 2 4 2 2 4 4 2 2 2 4 2 2 4 4 2 2 4 2 2 2 2 2 4 4\n",
      " 2 4 2 4 4 2 2 2 4 4 4 2 2 4 2 4 2 2 2 2 2 4 2 4 2 2 4 2 2 2 2 2 2 2 2 4 2\n",
      " 4 4 4 4 4 2 4 2 4 2 4 4 4 4 4 4 2 2 2 2 2 4 2 2 4 2 2 2 4 2 2 2 4 2 2 2 2\n",
      " 2 2 4 4 2 2 2 2 2 2 2 2 2 2 2 4 4 2 4 4 2 2 2 2 2 2 2]\n"
     ]
    }
   ],
   "source": [
    "print(y_train)"
   ]
  },
  {
   "cell_type": "markdown",
   "id": "667698b9",
   "metadata": {},
   "source": [
    "# TRAINING THE LOGISTIC REGRESSION MODEL IN TRAINING SET"
   ]
  },
  {
   "cell_type": "code",
   "execution_count": 13,
   "id": "847de420",
   "metadata": {},
   "outputs": [
    {
     "data": {
      "text/html": [
       "<style>#sk-container-id-1 {color: black;}#sk-container-id-1 pre{padding: 0;}#sk-container-id-1 div.sk-toggleable {background-color: white;}#sk-container-id-1 label.sk-toggleable__label {cursor: pointer;display: block;width: 100%;margin-bottom: 0;padding: 0.3em;box-sizing: border-box;text-align: center;}#sk-container-id-1 label.sk-toggleable__label-arrow:before {content: \"▸\";float: left;margin-right: 0.25em;color: #696969;}#sk-container-id-1 label.sk-toggleable__label-arrow:hover:before {color: black;}#sk-container-id-1 div.sk-estimator:hover label.sk-toggleable__label-arrow:before {color: black;}#sk-container-id-1 div.sk-toggleable__content {max-height: 0;max-width: 0;overflow: hidden;text-align: left;background-color: #f0f8ff;}#sk-container-id-1 div.sk-toggleable__content pre {margin: 0.2em;color: black;border-radius: 0.25em;background-color: #f0f8ff;}#sk-container-id-1 input.sk-toggleable__control:checked~div.sk-toggleable__content {max-height: 200px;max-width: 100%;overflow: auto;}#sk-container-id-1 input.sk-toggleable__control:checked~label.sk-toggleable__label-arrow:before {content: \"▾\";}#sk-container-id-1 div.sk-estimator input.sk-toggleable__control:checked~label.sk-toggleable__label {background-color: #d4ebff;}#sk-container-id-1 div.sk-label input.sk-toggleable__control:checked~label.sk-toggleable__label {background-color: #d4ebff;}#sk-container-id-1 input.sk-hidden--visually {border: 0;clip: rect(1px 1px 1px 1px);clip: rect(1px, 1px, 1px, 1px);height: 1px;margin: -1px;overflow: hidden;padding: 0;position: absolute;width: 1px;}#sk-container-id-1 div.sk-estimator {font-family: monospace;background-color: #f0f8ff;border: 1px dotted black;border-radius: 0.25em;box-sizing: border-box;margin-bottom: 0.5em;}#sk-container-id-1 div.sk-estimator:hover {background-color: #d4ebff;}#sk-container-id-1 div.sk-parallel-item::after {content: \"\";width: 100%;border-bottom: 1px solid gray;flex-grow: 1;}#sk-container-id-1 div.sk-label:hover label.sk-toggleable__label {background-color: #d4ebff;}#sk-container-id-1 div.sk-serial::before {content: \"\";position: absolute;border-left: 1px solid gray;box-sizing: border-box;top: 0;bottom: 0;left: 50%;z-index: 0;}#sk-container-id-1 div.sk-serial {display: flex;flex-direction: column;align-items: center;background-color: white;padding-right: 0.2em;padding-left: 0.2em;position: relative;}#sk-container-id-1 div.sk-item {position: relative;z-index: 1;}#sk-container-id-1 div.sk-parallel {display: flex;align-items: stretch;justify-content: center;background-color: white;position: relative;}#sk-container-id-1 div.sk-item::before, #sk-container-id-1 div.sk-parallel-item::before {content: \"\";position: absolute;border-left: 1px solid gray;box-sizing: border-box;top: 0;bottom: 0;left: 50%;z-index: -1;}#sk-container-id-1 div.sk-parallel-item {display: flex;flex-direction: column;z-index: 1;position: relative;background-color: white;}#sk-container-id-1 div.sk-parallel-item:first-child::after {align-self: flex-end;width: 50%;}#sk-container-id-1 div.sk-parallel-item:last-child::after {align-self: flex-start;width: 50%;}#sk-container-id-1 div.sk-parallel-item:only-child::after {width: 0;}#sk-container-id-1 div.sk-dashed-wrapped {border: 1px dashed gray;margin: 0 0.4em 0.5em 0.4em;box-sizing: border-box;padding-bottom: 0.4em;background-color: white;}#sk-container-id-1 div.sk-label label {font-family: monospace;font-weight: bold;display: inline-block;line-height: 1.2em;}#sk-container-id-1 div.sk-label-container {text-align: center;}#sk-container-id-1 div.sk-container {/* jupyter's `normalize.less` sets `[hidden] { display: none; }` but bootstrap.min.css set `[hidden] { display: none !important; }` so we also need the `!important` here to be able to override the default hidden behavior on the sphinx rendered scikit-learn.org. See: https://github.com/scikit-learn/scikit-learn/issues/21755 */display: inline-block !important;position: relative;}#sk-container-id-1 div.sk-text-repr-fallback {display: none;}</style><div id=\"sk-container-id-1\" class=\"sk-top-container\"><div class=\"sk-text-repr-fallback\"><pre>LogisticRegression(random_state=0)</pre><b>In a Jupyter environment, please rerun this cell to show the HTML representation or trust the notebook. <br />On GitHub, the HTML representation is unable to render, please try loading this page with nbviewer.org.</b></div><div class=\"sk-container\" hidden><div class=\"sk-item\"><div class=\"sk-estimator sk-toggleable\"><input class=\"sk-toggleable__control sk-hidden--visually\" id=\"sk-estimator-id-1\" type=\"checkbox\" checked><label for=\"sk-estimator-id-1\" class=\"sk-toggleable__label sk-toggleable__label-arrow\">LogisticRegression</label><div class=\"sk-toggleable__content\"><pre>LogisticRegression(random_state=0)</pre></div></div></div></div></div>"
      ],
      "text/plain": [
       "LogisticRegression(random_state=0)"
      ]
     },
     "execution_count": 13,
     "metadata": {},
     "output_type": "execute_result"
    }
   ],
   "source": [
    "from sklearn.linear_model import LogisticRegression\n",
    "\n",
    "classifier = LogisticRegression(random_state=0)\n",
    "classifier.fit(x_train,y_train)"
   ]
  },
  {
   "cell_type": "markdown",
   "id": "f117a111",
   "metadata": {},
   "source": [
    "# PREDICTING THE VALUES OF TEST_SET"
   ]
  },
  {
   "cell_type": "code",
   "execution_count": 14,
   "id": "44383cb7",
   "metadata": {},
   "outputs": [],
   "source": [
    "y_pred = classifier.predict(x_test)"
   ]
  },
  {
   "cell_type": "code",
   "execution_count": 15,
   "id": "ffde030a",
   "metadata": {},
   "outputs": [
    {
     "name": "stdout",
     "output_type": "stream",
     "text": [
      "[[2 2]\n",
      " [2 2]\n",
      " [4 4]\n",
      " [2 2]\n",
      " [2 2]\n",
      " [4 4]\n",
      " [2 2]\n",
      " [2 2]\n",
      " [2 2]\n",
      " [4 4]\n",
      " [4 4]\n",
      " [2 2]\n",
      " [4 4]\n",
      " [2 2]\n",
      " [2 2]\n",
      " [4 4]\n",
      " [4 4]\n",
      " [4 4]\n",
      " [2 2]\n",
      " [4 4]\n",
      " [4 4]\n",
      " [2 2]\n",
      " [2 2]\n",
      " [2 2]\n",
      " [4 4]\n",
      " [2 2]\n",
      " [2 2]\n",
      " [2 2]\n",
      " [2 2]\n",
      " [2 2]\n",
      " [2 2]\n",
      " [2 2]\n",
      " [4 4]\n",
      " [4 2]\n",
      " [2 2]\n",
      " [2 2]\n",
      " [2 2]\n",
      " [4 4]\n",
      " [2 2]\n",
      " [2 2]\n",
      " [2 2]\n",
      " [2 2]\n",
      " [2 2]\n",
      " [4 4]\n",
      " [2 2]\n",
      " [2 2]\n",
      " [4 4]\n",
      " [4 4]\n",
      " [2 2]\n",
      " [4 4]\n",
      " [2 2]\n",
      " [2 2]\n",
      " [4 4]\n",
      " [2 2]\n",
      " [2 2]\n",
      " [2 2]\n",
      " [4 2]\n",
      " [2 2]\n",
      " [2 2]\n",
      " [4 4]\n",
      " [2 2]\n",
      " [2 2]\n",
      " [2 2]\n",
      " [2 2]\n",
      " [2 2]\n",
      " [2 2]\n",
      " [2 2]\n",
      " [2 2]\n",
      " [4 4]\n",
      " [2 4]\n",
      " [2 2]\n",
      " [2 2]\n",
      " [2 2]\n",
      " [2 2]\n",
      " [2 2]\n",
      " [4 4]\n",
      " [4 4]\n",
      " [2 2]\n",
      " [2 2]\n",
      " [4 4]\n",
      " [4 2]\n",
      " [2 2]\n",
      " [4 4]\n",
      " [2 2]\n",
      " [2 2]\n",
      " [4 4]\n",
      " [2 2]\n",
      " [2 2]\n",
      " [4 4]\n",
      " [2 2]\n",
      " [2 2]\n",
      " [2 2]\n",
      " [2 2]\n",
      " [4 4]\n",
      " [4 4]\n",
      " [4 4]\n",
      " [2 2]\n",
      " [2 4]\n",
      " [4 4]\n",
      " [2 2]\n",
      " [2 2]\n",
      " [4 4]\n",
      " [4 4]\n",
      " [4 4]\n",
      " [4 4]\n",
      " [2 2]\n",
      " [2 2]\n",
      " [4 4]\n",
      " [2 2]\n",
      " [2 2]\n",
      " [2 2]\n",
      " [2 2]\n",
      " [2 2]\n",
      " [4 4]\n",
      " [2 2]\n",
      " [2 2]\n",
      " [2 2]\n",
      " [4 4]\n",
      " [2 2]\n",
      " [2 2]\n",
      " [2 2]\n",
      " [4 4]\n",
      " [2 2]\n",
      " [4 4]\n",
      " [4 4]\n",
      " [4 4]\n",
      " [2 2]\n",
      " [2 2]\n",
      " [2 2]\n",
      " [4 4]\n",
      " [2 2]\n",
      " [2 2]\n",
      " [2 2]\n",
      " [2 2]\n",
      " [4 4]\n",
      " [2 2]\n",
      " [2 2]]\n"
     ]
    }
   ],
   "source": [
    "print(np.concatenate((y_pred.reshape(len(y_pred),1),y_test.reshape(len(y_test),1)),1))"
   ]
  },
  {
   "cell_type": "markdown",
   "id": "8cfce8d6",
   "metadata": {},
   "source": [
    "# MAKING THE CONFUSION MATRIX"
   ]
  },
  {
   "cell_type": "code",
   "execution_count": 16,
   "id": "04574816",
   "metadata": {},
   "outputs": [
    {
     "name": "stdout",
     "output_type": "stream",
     "text": [
      "[[89  3]\n",
      " [ 2 43]]\n"
     ]
    }
   ],
   "source": [
    "from sklearn.metrics import confusion_matrix,accuracy_score\n",
    "cm = confusion_matrix(y_test,y_pred)\n",
    "print(cm)"
   ]
  },
  {
   "cell_type": "code",
   "execution_count": 17,
   "id": "8aac404e",
   "metadata": {},
   "outputs": [
    {
     "name": "stdout",
     "output_type": "stream",
     "text": [
      "Accuracy :  0.96\n"
     ]
    }
   ],
   "source": [
    "ac = accuracy_score(y_test,y_pred)\n",
    "ac = round(ac, 2)\n",
    "print(\"Accuracy : \" , ac)"
   ]
  },
  {
   "cell_type": "markdown",
   "id": "6075ef33",
   "metadata": {},
   "source": [
    "# COMPUTING THE ACCURACY OF K_FOLD CROSS VALIDATION"
   ]
  },
  {
   "cell_type": "code",
   "execution_count": 18,
   "id": "1ede5284",
   "metadata": {},
   "outputs": [
    {
     "name": "stdout",
     "output_type": "stream",
     "text": [
      "Accuracies : 96.70 %\n",
      "Accuracies : 2.28 %\n"
     ]
    }
   ],
   "source": [
    "from sklearn.model_selection import cross_val_score\n",
    "accuracies = cross_val_score(estimator = classifier, X = x_train, y = y_train, cv = 10)\n",
    "print(\"Accuracies : {:.2f} %\".format(accuracies.mean()*100))\n",
    "print(\"Accuracies : {:.2f} %\".format(accuracies.std()*100))"
   ]
  }
 ],
 "metadata": {
  "kernelspec": {
   "display_name": "Python 3 (ipykernel)",
   "language": "python",
   "name": "python3"
  },
  "language_info": {
   "codemirror_mode": {
    "name": "ipython",
    "version": 3
   },
   "file_extension": ".py",
   "mimetype": "text/x-python",
   "name": "python",
   "nbconvert_exporter": "python",
   "pygments_lexer": "ipython3",
   "version": "3.11.5"
  }
 },
 "nbformat": 4,
 "nbformat_minor": 5
}
